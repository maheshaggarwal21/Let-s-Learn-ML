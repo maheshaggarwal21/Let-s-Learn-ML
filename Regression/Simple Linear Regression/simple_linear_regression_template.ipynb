{
 "cells": [
  {
   "cell_type": "code",
   "execution_count": null,
   "id": "3bf62f9d",
   "metadata": {},
   "outputs": [],
   "source": [
    "\n",
    "import matplotlib.pyplot as plt\n",
    "\n",
    "from sklearn.linear_model import LinearRegression\n",
    "regressor = LinearRegression()\n",
    "regressor.fit(X_train, y_train)\n",
    "\n",
    "y_pred = regressor.predict(X_test)\n",
    "\n",
    "# Visualization\n",
    "\n",
    "plt.scatter(X_train , y_train , color = \"red\")\n",
    "plt.plot(X_train , regressor.predict(X_train) , color = \"blue\" )\n",
    "plt.title(\"Salary vs Year of Experience (training set)\")\n",
    "plt.xlabel(\"Years of Experience\")\n",
    "plt.ylabel(\"Salary\")\n",
    "plt.show()\n",
    "\n",
    "plt.scatter(X_test , y_test , color = \"red\")\n",
    "plt.plot(X_test , y_pred , color = \"blue\" )\n",
    "plt.title(\"Salary vs Year of Experience (test set)\")\n",
    "plt.xlabel(\"Years of Experience\")\n",
    "plt.ylabel(\"Salary\")\n",
    "plt.show()"
   ]
  }
 ],
 "metadata": {
  "language_info": {
   "name": "python"
  }
 },
 "nbformat": 4,
 "nbformat_minor": 5
}
